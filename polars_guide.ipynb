{
 "cells": [
  {
   "cell_type": "markdown",
   "metadata": {},
   "source": [
    "## Polars база"
   ]
  },
  {
   "cell_type": "markdown",
   "metadata": {},
   "source": [
    "### импорт и загрузка данных"
   ]
  },
  {
   "cell_type": "code",
   "execution_count": 16,
   "metadata": {},
   "outputs": [],
   "source": [
    "import polars as pl\n",
    "\n",
    "data = pl.read_parquet(r'C:\\Users\\yarik\\Downloads\\09_09.parquet')"
   ]
  },
  {
   "cell_type": "markdown",
   "metadata": {},
   "source": [
    "### Размер ДФ + при выводе данных, эта инфа есть в верхнем левом углу"
   ]
  },
  {
   "cell_type": "code",
   "execution_count": 15,
   "metadata": {},
   "outputs": [
    {
     "data": {
      "text/plain": [
       "(15802010, 10)"
      ]
     },
     "execution_count": 15,
     "metadata": {},
     "output_type": "execute_result"
    }
   ],
   "source": [
    "data.shape"
   ]
  },
  {
   "cell_type": "markdown",
   "metadata": {},
   "source": [
    "### sample"
   ]
  },
  {
   "cell_type": "code",
   "execution_count": 28,
   "metadata": {},
   "outputs": [
    {
     "data": {
      "text/html": [
       "<div><style>\n",
       ".dataframe > thead > tr,\n",
       ".dataframe > tbody > tr {\n",
       "  text-align: right;\n",
       "  white-space: pre-wrap;\n",
       "}\n",
       "</style>\n",
       "<small>shape: (5, 10)</small><table border=\"1\" class=\"dataframe\"><thead><tr><th>id</th><th>tour</th><th>departure</th><th>country</th><th>hotel</th><th>check_in</th><th>nights</th><th>rev</th><th>date</th><th>__index_level_0__</th></tr><tr><td>i64</td><td>i64</td><td>i64</td><td>i64</td><td>f64</td><td>datetime[ns]</td><td>i64</td><td>i64</td><td>datetime[ns]</td><td>i64</td></tr></thead><tbody><tr><td>1331386</td><td>15878</td><td>350903</td><td>18498</td><td>19758.0</td><td>2022-10-02 00:00:00</td><td>6</td><td>1160</td><td>2022-09-09 17:55:42.760</td><td>385813</td></tr><tr><td>1329760</td><td>232</td><td>265062</td><td>18803</td><td>135438.0</td><td>2022-10-10 00:00:00</td><td>11</td><td>121</td><td>2022-09-09 10:22:34.480</td><td>500916</td></tr><tr><td>1329554</td><td>14920</td><td>353556</td><td>20613</td><td>21820.0</td><td>2022-11-08 00:00:00</td><td>7</td><td>243</td><td>2022-09-09 10:05:28.853</td><td>3297839</td></tr><tr><td>1330875</td><td>300</td><td>350906</td><td>18803</td><td>386836.0</td><td>2023-01-07 00:00:00</td><td>23</td><td>501</td><td>2022-09-09 15:31:32.423</td><td>1694859</td></tr><tr><td>1330864</td><td>300</td><td>350906</td><td>18803</td><td>256627.0</td><td>2023-02-15 00:00:00</td><td>23</td><td>501</td><td>2022-09-09 15:26:13.750</td><td>1658994</td></tr></tbody></table></div>"
      ],
      "text/plain": [
       "shape: (5, 10)\n",
       "┌─────────┬───────┬───────────┬─────────┬───┬────────┬──────┬──────────────┬───────────────────┐\n",
       "│ id      ┆ tour  ┆ departure ┆ country ┆ … ┆ nights ┆ rev  ┆ date         ┆ __index_level_0__ │\n",
       "│ ---     ┆ ---   ┆ ---       ┆ ---     ┆   ┆ ---    ┆ ---  ┆ ---          ┆ ---               │\n",
       "│ i64     ┆ i64   ┆ i64       ┆ i64     ┆   ┆ i64    ┆ i64  ┆ datetime[ns] ┆ i64               │\n",
       "╞═════════╪═══════╪═══════════╪═════════╪═══╪════════╪══════╪══════════════╪═══════════════════╡\n",
       "│ 1331386 ┆ 15878 ┆ 350903    ┆ 18498   ┆ … ┆ 6      ┆ 1160 ┆ 2022-09-09   ┆ 385813            │\n",
       "│         ┆       ┆           ┆         ┆   ┆        ┆      ┆ 17:55:42.760 ┆                   │\n",
       "│ 1329760 ┆ 232   ┆ 265062    ┆ 18803   ┆ … ┆ 11     ┆ 121  ┆ 2022-09-09   ┆ 500916            │\n",
       "│         ┆       ┆           ┆         ┆   ┆        ┆      ┆ 10:22:34.480 ┆                   │\n",
       "│ 1329554 ┆ 14920 ┆ 353556    ┆ 20613   ┆ … ┆ 7      ┆ 243  ┆ 2022-09-09   ┆ 3297839           │\n",
       "│         ┆       ┆           ┆         ┆   ┆        ┆      ┆ 10:05:28.853 ┆                   │\n",
       "│ 1330875 ┆ 300   ┆ 350906    ┆ 18803   ┆ … ┆ 23     ┆ 501  ┆ 2022-09-09   ┆ 1694859           │\n",
       "│         ┆       ┆           ┆         ┆   ┆        ┆      ┆ 15:31:32.423 ┆                   │\n",
       "│ 1330864 ┆ 300   ┆ 350906    ┆ 18803   ┆ … ┆ 23     ┆ 501  ┆ 2022-09-09   ┆ 1658994           │\n",
       "│         ┆       ┆           ┆         ┆   ┆        ┆      ┆ 15:26:13.750 ┆                   │\n",
       "└─────────┴───────┴───────────┴─────────┴───┴────────┴──────┴──────────────┴───────────────────┘"
      ]
     },
     "execution_count": 28,
     "metadata": {},
     "output_type": "execute_result"
    }
   ],
   "source": [
    "data.sample(5)"
   ]
  },
  {
   "cell_type": "markdown",
   "metadata": {},
   "source": [
    "### считаем null"
   ]
  },
  {
   "cell_type": "code",
   "execution_count": 46,
   "metadata": {},
   "outputs": [
    {
     "data": {
      "text/html": [
       "<div><style>\n",
       ".dataframe > thead > tr,\n",
       ".dataframe > tbody > tr {\n",
       "  text-align: right;\n",
       "  white-space: pre-wrap;\n",
       "}\n",
       "</style>\n",
       "<small>shape: (1, 10)</small><table border=\"1\" class=\"dataframe\"><thead><tr><th>id</th><th>tour</th><th>departure</th><th>country</th><th>hotel</th><th>check_in</th><th>nights</th><th>rev</th><th>date</th><th>__index_level_0__</th></tr><tr><td>u32</td><td>u32</td><td>u32</td><td>u32</td><td>u32</td><td>u32</td><td>u32</td><td>u32</td><td>u32</td><td>u32</td></tr></thead><tbody><tr><td>0</td><td>0</td><td>0</td><td>0</td><td>38282</td><td>0</td><td>0</td><td>0</td><td>0</td><td>0</td></tr></tbody></table></div>"
      ],
      "text/plain": [
       "shape: (1, 10)\n",
       "┌─────┬──────┬───────────┬─────────┬───┬────────┬─────┬──────┬───────────────────┐\n",
       "│ id  ┆ tour ┆ departure ┆ country ┆ … ┆ nights ┆ rev ┆ date ┆ __index_level_0__ │\n",
       "│ --- ┆ ---  ┆ ---       ┆ ---     ┆   ┆ ---    ┆ --- ┆ ---  ┆ ---               │\n",
       "│ u32 ┆ u32  ┆ u32       ┆ u32     ┆   ┆ u32    ┆ u32 ┆ u32  ┆ u32               │\n",
       "╞═════╪══════╪═══════════╪═════════╪═══╪════════╪═════╪══════╪═══════════════════╡\n",
       "│ 0   ┆ 0    ┆ 0         ┆ 0       ┆ … ┆ 0      ┆ 0   ┆ 0    ┆ 0                 │\n",
       "└─────┴──────┴───────────┴─────────┴───┴────────┴─────┴──────┴───────────────────┘"
      ]
     },
     "execution_count": 46,
     "metadata": {},
     "output_type": "execute_result"
    }
   ],
   "source": [
    "data.null_count()"
   ]
  },
  {
   "cell_type": "markdown",
   "metadata": {},
   "source": [
    "### Базовые операции (числовые)"
   ]
  },
  {
   "cell_type": "code",
   "execution_count": 70,
   "metadata": {},
   "outputs": [
    {
     "data": {
      "text/html": [
       "<div><style>\n",
       ".dataframe > thead > tr,\n",
       ".dataframe > tbody > tr {\n",
       "  text-align: right;\n",
       "  white-space: pre-wrap;\n",
       "}\n",
       "</style>\n",
       "<small>shape: (5, 1)</small><table border=\"1\" class=\"dataframe\"><thead><tr><th>test_shizzler</th></tr><tr><td>i64</td></tr></thead><tbody><tr><td>600450</td></tr><tr><td>600450</td></tr><tr><td>600450</td></tr><tr><td>600450</td></tr><tr><td>600625</td></tr></tbody></table></div>"
      ],
      "text/plain": [
       "shape: (5, 1)\n",
       "┌───────────────┐\n",
       "│ test_shizzler │\n",
       "│ ---           │\n",
       "│ i64           │\n",
       "╞═══════════════╡\n",
       "│ 600450        │\n",
       "│ 600450        │\n",
       "│ 600450        │\n",
       "│ 600450        │\n",
       "│ 600625        │\n",
       "└───────────────┘"
      ]
     },
     "execution_count": 70,
     "metadata": {},
     "output_type": "execute_result"
    }
   ],
   "source": [
    "data.select((pl.col('rev') + 600_400).alias(\"test_shizzler\")).head(5)"
   ]
  },
  {
   "cell_type": "markdown",
   "metadata": {},
   "source": [
    "### Базовые операции (логические)"
   ]
  },
  {
   "cell_type": "code",
   "execution_count": 73,
   "metadata": {},
   "outputs": [
    {
     "data": {
      "text/html": [
       "<div><style>\n",
       ".dataframe > thead > tr,\n",
       ".dataframe > tbody > tr {\n",
       "  text-align: right;\n",
       "  white-space: pre-wrap;\n",
       "}\n",
       "</style>\n",
       "<small>shape: (5, 1)</small><table border=\"1\" class=\"dataframe\"><thead><tr><th>shizzle</th></tr><tr><td>bool</td></tr></thead><tbody><tr><td>false</td></tr><tr><td>false</td></tr><tr><td>false</td></tr><tr><td>false</td></tr><tr><td>true</td></tr></tbody></table></div>"
      ],
      "text/plain": [
       "shape: (5, 1)\n",
       "┌─────────┐\n",
       "│ shizzle │\n",
       "│ ---     │\n",
       "│ bool    │\n",
       "╞═════════╡\n",
       "│ false   │\n",
       "│ false   │\n",
       "│ false   │\n",
       "│ false   │\n",
       "│ true    │\n",
       "└─────────┘"
      ]
     },
     "execution_count": 73,
     "metadata": {},
     "output_type": "execute_result"
    }
   ],
   "source": [
    "data.select((pl.col('rev') > 100).alias('shizzle')).head(5)"
   ]
  },
  {
   "cell_type": "markdown",
   "metadata": {},
   "source": [
    "### Выбор колонок с опциями"
   ]
  },
  {
   "cell_type": "code",
   "execution_count": 77,
   "metadata": {},
   "outputs": [
    {
     "data": {
      "text/html": [
       "<div><style>\n",
       ".dataframe > thead > tr,\n",
       ".dataframe > tbody > tr {\n",
       "  text-align: right;\n",
       "  white-space: pre-wrap;\n",
       "}\n",
       "</style>\n",
       "<small>shape: (5, 9)</small><table border=\"1\" class=\"dataframe\"><thead><tr><th>id</th><th>tour</th><th>departure</th><th>country</th><th>hotel</th><th>check_in</th><th>nights</th><th>rev</th><th>__index_level_0__</th></tr><tr><td>i64</td><td>i64</td><td>i64</td><td>i64</td><td>f64</td><td>datetime[ns]</td><td>i64</td><td>i64</td><td>i64</td></tr></thead><tbody><tr><td>1329458</td><td>78</td><td>274286</td><td>18803</td><td>20085.0</td><td>2022-09-15 00:00:00</td><td>2</td><td>50</td><td>0</td></tr><tr><td>1329459</td><td>78</td><td>274286</td><td>18803</td><td>20085.0</td><td>2022-09-15 00:00:00</td><td>2</td><td>50</td><td>1</td></tr><tr><td>1329460</td><td>78</td><td>274286</td><td>18803</td><td>20085.0</td><td>2022-09-16 00:00:00</td><td>2</td><td>50</td><td>2</td></tr><tr><td>1329461</td><td>78</td><td>274286</td><td>18803</td><td>20085.0</td><td>2022-09-16 00:00:00</td><td>2</td><td>50</td><td>3</td></tr><tr><td>1329462</td><td>78</td><td>274286</td><td>18803</td><td>20085.0</td><td>2022-09-17 00:00:00</td><td>2</td><td>225</td><td>4</td></tr></tbody></table></div>"
      ],
      "text/plain": [
       "shape: (5, 9)\n",
       "┌─────────┬──────┬───────────┬─────────┬───┬──────────────┬────────┬─────┬───────────────────┐\n",
       "│ id      ┆ tour ┆ departure ┆ country ┆ … ┆ check_in     ┆ nights ┆ rev ┆ __index_level_0__ │\n",
       "│ ---     ┆ ---  ┆ ---       ┆ ---     ┆   ┆ ---          ┆ ---    ┆ --- ┆ ---               │\n",
       "│ i64     ┆ i64  ┆ i64       ┆ i64     ┆   ┆ datetime[ns] ┆ i64    ┆ i64 ┆ i64               │\n",
       "╞═════════╪══════╪═══════════╪═════════╪═══╪══════════════╪════════╪═════╪═══════════════════╡\n",
       "│ 1329458 ┆ 78   ┆ 274286    ┆ 18803   ┆ … ┆ 2022-09-15   ┆ 2      ┆ 50  ┆ 0                 │\n",
       "│         ┆      ┆           ┆         ┆   ┆ 00:00:00     ┆        ┆     ┆                   │\n",
       "│ 1329459 ┆ 78   ┆ 274286    ┆ 18803   ┆ … ┆ 2022-09-15   ┆ 2      ┆ 50  ┆ 1                 │\n",
       "│         ┆      ┆           ┆         ┆   ┆ 00:00:00     ┆        ┆     ┆                   │\n",
       "│ 1329460 ┆ 78   ┆ 274286    ┆ 18803   ┆ … ┆ 2022-09-16   ┆ 2      ┆ 50  ┆ 2                 │\n",
       "│         ┆      ┆           ┆         ┆   ┆ 00:00:00     ┆        ┆     ┆                   │\n",
       "│ 1329461 ┆ 78   ┆ 274286    ┆ 18803   ┆ … ┆ 2022-09-16   ┆ 2      ┆ 50  ┆ 3                 │\n",
       "│         ┆      ┆           ┆         ┆   ┆ 00:00:00     ┆        ┆     ┆                   │\n",
       "│ 1329462 ┆ 78   ┆ 274286    ┆ 18803   ┆ … ┆ 2022-09-17   ┆ 2      ┆ 225 ┆ 4                 │\n",
       "│         ┆      ┆           ┆         ┆   ┆ 00:00:00     ┆        ┆     ┆                   │\n",
       "└─────────┴──────┴───────────┴─────────┴───┴──────────────┴────────┴─────┴───────────────────┘"
      ]
     },
     "execution_count": 77,
     "metadata": {},
     "output_type": "execute_result"
    }
   ],
   "source": [
    "data.select(pl.col('*').exclude('date')).head(5)"
   ]
  },
  {
   "cell_type": "markdown",
   "metadata": {},
   "source": [
    "### Работа с датами"
   ]
  },
  {
   "cell_type": "code",
   "execution_count": 82,
   "metadata": {},
   "outputs": [
    {
     "data": {
      "text/html": [
       "<div><style>\n",
       ".dataframe > thead > tr,\n",
       ".dataframe > tbody > tr {\n",
       "  text-align: right;\n",
       "  white-space: pre-wrap;\n",
       "}\n",
       "</style>\n",
       "<small>shape: (5, 1)</small><table border=\"1\" class=\"dataframe\"><thead><tr><th>check_in</th></tr><tr><td>str</td></tr></thead><tbody><tr><td>&quot;15-09-2022&quot;</td></tr><tr><td>&quot;15-09-2022&quot;</td></tr><tr><td>&quot;16-09-2022&quot;</td></tr><tr><td>&quot;16-09-2022&quot;</td></tr><tr><td>&quot;17-09-2022&quot;</td></tr></tbody></table></div>"
      ],
      "text/plain": [
       "shape: (5, 1)\n",
       "┌────────────┐\n",
       "│ check_in   │\n",
       "│ ---        │\n",
       "│ str        │\n",
       "╞════════════╡\n",
       "│ 15-09-2022 │\n",
       "│ 15-09-2022 │\n",
       "│ 16-09-2022 │\n",
       "│ 16-09-2022 │\n",
       "│ 17-09-2022 │\n",
       "└────────────┘"
      ]
     },
     "execution_count": 82,
     "metadata": {},
     "output_type": "execute_result"
    }
   ],
   "source": [
    "data.select(pl.col('check_in').dt.to_string('%d-%m-%Y')).head(5)"
   ]
  },
  {
   "cell_type": "markdown",
   "metadata": {},
   "source": [
    "### вывод уникальных значений по колонкам"
   ]
  },
  {
   "cell_type": "code",
   "execution_count": 87,
   "metadata": {},
   "outputs": [
    {
     "data": {
      "text/html": [
       "<div><style>\n",
       ".dataframe > thead > tr,\n",
       ".dataframe > tbody > tr {\n",
       "  text-align: right;\n",
       "  white-space: pre-wrap;\n",
       "}\n",
       "</style>\n",
       "<small>shape: (1, 10)</small><table border=\"1\" class=\"dataframe\"><thead><tr><th>id</th><th>tour</th><th>departure</th><th>country</th><th>hotel</th><th>check_in</th><th>nights</th><th>rev</th><th>date</th><th>__index_level_0__</th></tr><tr><td>u32</td><td>u32</td><td>u32</td><td>u32</td><td>u32</td><td>u32</td><td>u32</td><td>u32</td><td>u32</td><td>u32</td></tr></thead><tbody><tr><td>1947</td><td>142</td><td>22</td><td>11</td><td>4343</td><td>206</td><td>27</td><td>1003</td><td>99429</td><td>5526969</td></tr></tbody></table></div>"
      ],
      "text/plain": [
       "shape: (1, 10)\n",
       "┌──────┬──────┬───────────┬─────────┬───┬────────┬──────┬───────┬───────────────────┐\n",
       "│ id   ┆ tour ┆ departure ┆ country ┆ … ┆ nights ┆ rev  ┆ date  ┆ __index_level_0__ │\n",
       "│ ---  ┆ ---  ┆ ---       ┆ ---     ┆   ┆ ---    ┆ ---  ┆ ---   ┆ ---               │\n",
       "│ u32  ┆ u32  ┆ u32       ┆ u32     ┆   ┆ u32    ┆ u32  ┆ u32   ┆ u32               │\n",
       "╞══════╪══════╪═══════════╪═════════╪═══╪════════╪══════╪═══════╪═══════════════════╡\n",
       "│ 1947 ┆ 142  ┆ 22        ┆ 11      ┆ … ┆ 27     ┆ 1003 ┆ 99429 ┆ 5526969           │\n",
       "└──────┴──────┴───────────┴─────────┴───┴────────┴──────┴───────┴───────────────────┘"
      ]
     },
     "execution_count": 87,
     "metadata": {},
     "output_type": "execute_result"
    }
   ],
   "source": [
    "data.select((pl.all()).n_unique())"
   ]
  },
  {
   "cell_type": "markdown",
   "metadata": {},
   "source": [
    "### выбор колонок по дата тайпам"
   ]
  },
  {
   "cell_type": "code",
   "execution_count": 88,
   "metadata": {},
   "outputs": [
    {
     "data": {
      "text/html": [
       "<div><style>\n",
       ".dataframe > thead > tr,\n",
       ".dataframe > tbody > tr {\n",
       "  text-align: right;\n",
       "  white-space: pre-wrap;\n",
       "}\n",
       "</style>\n",
       "<small>shape: (1, 7)</small><table border=\"1\" class=\"dataframe\"><thead><tr><th>id</th><th>tour</th><th>departure</th><th>country</th><th>nights</th><th>rev</th><th>__index_level_0__</th></tr><tr><td>u32</td><td>u32</td><td>u32</td><td>u32</td><td>u32</td><td>u32</td><td>u32</td></tr></thead><tbody><tr><td>1947</td><td>142</td><td>22</td><td>11</td><td>27</td><td>1003</td><td>5526969</td></tr></tbody></table></div>"
      ],
      "text/plain": [
       "shape: (1, 7)\n",
       "┌──────┬──────┬───────────┬─────────┬────────┬──────┬───────────────────┐\n",
       "│ id   ┆ tour ┆ departure ┆ country ┆ nights ┆ rev  ┆ __index_level_0__ │\n",
       "│ ---  ┆ ---  ┆ ---       ┆ ---     ┆ ---    ┆ ---  ┆ ---               │\n",
       "│ u32  ┆ u32  ┆ u32       ┆ u32     ┆ u32    ┆ u32  ┆ u32               │\n",
       "╞══════╪══════╪═══════════╪═════════╪════════╪══════╪═══════════════════╡\n",
       "│ 1947 ┆ 142  ┆ 22        ┆ 11      ┆ 27     ┆ 1003 ┆ 5526969           │\n",
       "└──────┴──────┴───────────┴─────────┴────────┴──────┴───────────────────┘"
      ]
     },
     "execution_count": 88,
     "metadata": {},
     "output_type": "execute_result"
    }
   ],
   "source": [
    "data.select(pl.col(pl.Int64, pl.UInt32, pl.Boolean).n_unique())"
   ]
  },
  {
   "cell_type": "markdown",
   "metadata": {},
   "source": [
    "### фильтрация"
   ]
  },
  {
   "cell_type": "code",
   "execution_count": 98,
   "metadata": {},
   "outputs": [
    {
     "data": {
      "text/html": [
       "<div><style>\n",
       ".dataframe > thead > tr,\n",
       ".dataframe > tbody > tr {\n",
       "  text-align: right;\n",
       "  white-space: pre-wrap;\n",
       "}\n",
       "</style>\n",
       "<small>shape: (5, 10)</small><table border=\"1\" class=\"dataframe\"><thead><tr><th>id</th><th>tour</th><th>departure</th><th>country</th><th>hotel</th><th>check_in</th><th>nights</th><th>rev</th><th>date</th><th>__index_level_0__</th></tr><tr><td>i64</td><td>i64</td><td>i64</td><td>i64</td><td>f64</td><td>datetime[ns]</td><td>i64</td><td>i64</td><td>datetime[ns]</td><td>i64</td></tr></thead><tbody><tr><td>1329987</td><td>4067</td><td>274286</td><td>18498</td><td>18650.0</td><td>2022-12-27 00:00:00</td><td>20</td><td>1010</td><td>2022-09-09 10:54:45.663</td><td>1341828</td></tr><tr><td>1329988</td><td>14876</td><td>274286</td><td>18498</td><td>18650.0</td><td>2022-12-27 00:00:00</td><td>20</td><td>1010</td><td>2022-09-09 10:54:49.917</td><td>1341829</td></tr><tr><td>1329989</td><td>4067</td><td>274286</td><td>18498</td><td>18650.0</td><td>2022-12-27 00:00:00</td><td>20</td><td>1010</td><td>2022-09-09 10:54:54.667</td><td>1341830</td></tr><tr><td>1329990</td><td>14876</td><td>274286</td><td>18498</td><td>18650.0</td><td>2022-12-27 00:00:00</td><td>20</td><td>1010</td><td>2022-09-09 10:54:57.150</td><td>1341831</td></tr><tr><td>1329987</td><td>4067</td><td>274286</td><td>18498</td><td>18651.0</td><td>2022-12-27 00:00:00</td><td>20</td><td>1030</td><td>2022-09-09 10:54:45.663</td><td>1341856</td></tr></tbody></table></div>"
      ],
      "text/plain": [
       "shape: (5, 10)\n",
       "┌─────────┬───────┬───────────┬─────────┬───┬────────┬──────┬──────────────┬───────────────────┐\n",
       "│ id      ┆ tour  ┆ departure ┆ country ┆ … ┆ nights ┆ rev  ┆ date         ┆ __index_level_0__ │\n",
       "│ ---     ┆ ---   ┆ ---       ┆ ---     ┆   ┆ ---    ┆ ---  ┆ ---          ┆ ---               │\n",
       "│ i64     ┆ i64   ┆ i64       ┆ i64     ┆   ┆ i64    ┆ i64  ┆ datetime[ns] ┆ i64               │\n",
       "╞═════════╪═══════╪═══════════╪═════════╪═══╪════════╪══════╪══════════════╪═══════════════════╡\n",
       "│ 1329987 ┆ 4067  ┆ 274286    ┆ 18498   ┆ … ┆ 20     ┆ 1010 ┆ 2022-09-09   ┆ 1341828           │\n",
       "│         ┆       ┆           ┆         ┆   ┆        ┆      ┆ 10:54:45.663 ┆                   │\n",
       "│ 1329988 ┆ 14876 ┆ 274286    ┆ 18498   ┆ … ┆ 20     ┆ 1010 ┆ 2022-09-09   ┆ 1341829           │\n",
       "│         ┆       ┆           ┆         ┆   ┆        ┆      ┆ 10:54:49.917 ┆                   │\n",
       "│ 1329989 ┆ 4067  ┆ 274286    ┆ 18498   ┆ … ┆ 20     ┆ 1010 ┆ 2022-09-09   ┆ 1341830           │\n",
       "│         ┆       ┆           ┆         ┆   ┆        ┆      ┆ 10:54:54.667 ┆                   │\n",
       "│ 1329990 ┆ 14876 ┆ 274286    ┆ 18498   ┆ … ┆ 20     ┆ 1010 ┆ 2022-09-09   ┆ 1341831           │\n",
       "│         ┆       ┆           ┆         ┆   ┆        ┆      ┆ 10:54:57.150 ┆                   │\n",
       "│ 1329987 ┆ 4067  ┆ 274286    ┆ 18498   ┆ … ┆ 20     ┆ 1030 ┆ 2022-09-09   ┆ 1341856           │\n",
       "│         ┆       ┆           ┆         ┆   ┆        ┆      ┆ 10:54:45.663 ┆                   │\n",
       "└─────────┴───────┴───────────┴─────────┴───┴────────┴──────┴──────────────┴───────────────────┘"
      ]
     },
     "execution_count": 98,
     "metadata": {},
     "output_type": "execute_result"
    }
   ],
   "source": [
    "data.filter((pl.col('rev') > 1000) & pl.col('hotel').is_not_null()).head(5)"
   ]
  },
  {
   "cell_type": "markdown",
   "metadata": {},
   "source": [
    "### создание новой колонки на базе существующей"
   ]
  },
  {
   "cell_type": "code",
   "execution_count": 108,
   "metadata": {},
   "outputs": [
    {
     "data": {
      "text/html": [
       "<div><style>\n",
       ".dataframe > thead > tr,\n",
       ".dataframe > tbody > tr {\n",
       "  text-align: right;\n",
       "  white-space: pre-wrap;\n",
       "}\n",
       "</style>\n",
       "<small>shape: (5, 11)</small><table border=\"1\" class=\"dataframe\"><thead><tr><th>id</th><th>tour</th><th>departure</th><th>country</th><th>hotel</th><th>check_in</th><th>nights</th><th>rev</th><th>date</th><th>__index_level_0__</th><th>rev + 20</th></tr><tr><td>i64</td><td>i64</td><td>i64</td><td>i64</td><td>f64</td><td>datetime[ns]</td><td>i64</td><td>i64</td><td>datetime[ns]</td><td>i64</td><td>i64</td></tr></thead><tbody><tr><td>1329458</td><td>78</td><td>274286</td><td>18803</td><td>20085.0</td><td>2022-09-15 00:00:00</td><td>2</td><td>50</td><td>2022-09-09 00:36:51.760</td><td>0</td><td>70</td></tr><tr><td>1329459</td><td>78</td><td>274286</td><td>18803</td><td>20085.0</td><td>2022-09-15 00:00:00</td><td>2</td><td>50</td><td>2022-09-09 00:36:56.883</td><td>1</td><td>70</td></tr><tr><td>1329460</td><td>78</td><td>274286</td><td>18803</td><td>20085.0</td><td>2022-09-16 00:00:00</td><td>2</td><td>50</td><td>2022-09-09 00:37:00.947</td><td>2</td><td>70</td></tr><tr><td>1329461</td><td>78</td><td>274286</td><td>18803</td><td>20085.0</td><td>2022-09-16 00:00:00</td><td>2</td><td>50</td><td>2022-09-09 00:37:07.370</td><td>3</td><td>70</td></tr><tr><td>1329462</td><td>78</td><td>274286</td><td>18803</td><td>20085.0</td><td>2022-09-17 00:00:00</td><td>2</td><td>225</td><td>2022-09-09 00:38:11.697</td><td>4</td><td>245</td></tr></tbody></table></div>"
      ],
      "text/plain": [
       "shape: (5, 11)\n",
       "┌─────────┬──────┬───────────┬─────────┬───┬─────┬──────────────┬───────────────────┬──────────┐\n",
       "│ id      ┆ tour ┆ departure ┆ country ┆ … ┆ rev ┆ date         ┆ __index_level_0__ ┆ rev + 20 │\n",
       "│ ---     ┆ ---  ┆ ---       ┆ ---     ┆   ┆ --- ┆ ---          ┆ ---               ┆ ---      │\n",
       "│ i64     ┆ i64  ┆ i64       ┆ i64     ┆   ┆ i64 ┆ datetime[ns] ┆ i64               ┆ i64      │\n",
       "╞═════════╪══════╪═══════════╪═════════╪═══╪═════╪══════════════╪═══════════════════╪══════════╡\n",
       "│ 1329458 ┆ 78   ┆ 274286    ┆ 18803   ┆ … ┆ 50  ┆ 2022-09-09   ┆ 0                 ┆ 70       │\n",
       "│         ┆      ┆           ┆         ┆   ┆     ┆ 00:36:51.760 ┆                   ┆          │\n",
       "│ 1329459 ┆ 78   ┆ 274286    ┆ 18803   ┆ … ┆ 50  ┆ 2022-09-09   ┆ 1                 ┆ 70       │\n",
       "│         ┆      ┆           ┆         ┆   ┆     ┆ 00:36:56.883 ┆                   ┆          │\n",
       "│ 1329460 ┆ 78   ┆ 274286    ┆ 18803   ┆ … ┆ 50  ┆ 2022-09-09   ┆ 2                 ┆ 70       │\n",
       "│         ┆      ┆           ┆         ┆   ┆     ┆ 00:37:00.947 ┆                   ┆          │\n",
       "│ 1329461 ┆ 78   ┆ 274286    ┆ 18803   ┆ … ┆ 50  ┆ 2022-09-09   ┆ 3                 ┆ 70       │\n",
       "│         ┆      ┆           ┆         ┆   ┆     ┆ 00:37:07.370 ┆                   ┆          │\n",
       "│ 1329462 ┆ 78   ┆ 274286    ┆ 18803   ┆ … ┆ 225 ┆ 2022-09-09   ┆ 4                 ┆ 245      │\n",
       "│         ┆      ┆           ┆         ┆   ┆     ┆ 00:38:11.697 ┆                   ┆          │\n",
       "└─────────┴──────┴───────────┴─────────┴───┴─────┴──────────────┴───────────────────┴──────────┘"
      ]
     },
     "execution_count": 108,
     "metadata": {},
     "output_type": "execute_result"
    }
   ],
   "source": [
    "data.with_columns((pl.col('rev')+20).alias('rev + 20')).head(5)"
   ]
  },
  {
   "cell_type": "markdown",
   "metadata": {},
   "source": [
    "### создание новой колонки с 0"
   ]
  },
  {
   "cell_type": "code",
   "execution_count": 109,
   "metadata": {},
   "outputs": [
    {
     "data": {
      "text/html": [
       "<div><style>\n",
       ".dataframe > thead > tr,\n",
       ".dataframe > tbody > tr {\n",
       "  text-align: right;\n",
       "  white-space: pre-wrap;\n",
       "}\n",
       "</style>\n",
       "<small>shape: (15_802_010, 11)</small><table border=\"1\" class=\"dataframe\"><thead><tr><th>id</th><th>tour</th><th>departure</th><th>country</th><th>hotel</th><th>check_in</th><th>nights</th><th>rev</th><th>date</th><th>__index_level_0__</th><th>new_0_column</th></tr><tr><td>i64</td><td>i64</td><td>i64</td><td>i64</td><td>f64</td><td>datetime[ns]</td><td>i64</td><td>i64</td><td>datetime[ns]</td><td>i64</td><td>i32</td></tr></thead><tbody><tr><td>1329458</td><td>78</td><td>274286</td><td>18803</td><td>20085.0</td><td>2022-09-15 00:00:00</td><td>2</td><td>50</td><td>2022-09-09 00:36:51.760</td><td>0</td><td>0</td></tr><tr><td>1329459</td><td>78</td><td>274286</td><td>18803</td><td>20085.0</td><td>2022-09-15 00:00:00</td><td>2</td><td>50</td><td>2022-09-09 00:36:56.883</td><td>1</td><td>0</td></tr><tr><td>1329460</td><td>78</td><td>274286</td><td>18803</td><td>20085.0</td><td>2022-09-16 00:00:00</td><td>2</td><td>50</td><td>2022-09-09 00:37:00.947</td><td>2</td><td>0</td></tr><tr><td>1329461</td><td>78</td><td>274286</td><td>18803</td><td>20085.0</td><td>2022-09-16 00:00:00</td><td>2</td><td>50</td><td>2022-09-09 00:37:07.370</td><td>3</td><td>0</td></tr><tr><td>1329462</td><td>78</td><td>274286</td><td>18803</td><td>20085.0</td><td>2022-09-17 00:00:00</td><td>2</td><td>225</td><td>2022-09-09 00:38:11.697</td><td>4</td><td>0</td></tr><tr><td>&hellip;</td><td>&hellip;</td><td>&hellip;</td><td>&hellip;</td><td>&hellip;</td><td>&hellip;</td><td>&hellip;</td><td>&hellip;</td><td>&hellip;</td><td>&hellip;</td><td>&hellip;</td></tr><tr><td>1331497</td><td>78</td><td>274286</td><td>18803</td><td>837451.0</td><td>2022-09-17 00:00:00</td><td>28</td><td>385</td><td>2022-09-09 23:00:45.040</td><td>123560</td><td>0</td></tr><tr><td>1331518</td><td>78</td><td>274286</td><td>18803</td><td>837451.0</td><td>2022-09-24 00:00:00</td><td>28</td><td>325</td><td>2022-09-09 23:07:23.370</td><td>123561</td><td>0</td></tr><tr><td>1331519</td><td>78</td><td>274286</td><td>18803</td><td>837451.0</td><td>2022-09-24 00:00:00</td><td>28</td><td>325</td><td>2022-09-09 23:07:57.267</td><td>123562</td><td>0</td></tr><tr><td>1331528</td><td>78</td><td>274286</td><td>18803</td><td>837451.0</td><td>2022-10-05 00:00:00</td><td>28</td><td>900</td><td>2022-09-09 23:13:23.090</td><td>123563</td><td>0</td></tr><tr><td>1331529</td><td>78</td><td>274286</td><td>18803</td><td>837451.0</td><td>2022-10-05 00:00:00</td><td>28</td><td>900</td><td>2022-09-09 23:13:42.987</td><td>123564</td><td>0</td></tr></tbody></table></div>"
      ],
      "text/plain": [
       "shape: (15_802_010, 11)\n",
       "┌─────────┬──────┬───────────┬─────────┬───┬─────┬─────────────────┬────────────────┬──────────────┐\n",
       "│ id      ┆ tour ┆ departure ┆ country ┆ … ┆ rev ┆ date            ┆ __index_level_ ┆ new_0_column │\n",
       "│ ---     ┆ ---  ┆ ---       ┆ ---     ┆   ┆ --- ┆ ---             ┆ 0__            ┆ ---          │\n",
       "│ i64     ┆ i64  ┆ i64       ┆ i64     ┆   ┆ i64 ┆ datetime[ns]    ┆ ---            ┆ i32          │\n",
       "│         ┆      ┆           ┆         ┆   ┆     ┆                 ┆ i64            ┆              │\n",
       "╞═════════╪══════╪═══════════╪═════════╪═══╪═════╪═════════════════╪════════════════╪══════════════╡\n",
       "│ 1329458 ┆ 78   ┆ 274286    ┆ 18803   ┆ … ┆ 50  ┆ 2022-09-09      ┆ 0              ┆ 0            │\n",
       "│         ┆      ┆           ┆         ┆   ┆     ┆ 00:36:51.760    ┆                ┆              │\n",
       "│ 1329459 ┆ 78   ┆ 274286    ┆ 18803   ┆ … ┆ 50  ┆ 2022-09-09      ┆ 1              ┆ 0            │\n",
       "│         ┆      ┆           ┆         ┆   ┆     ┆ 00:36:56.883    ┆                ┆              │\n",
       "│ 1329460 ┆ 78   ┆ 274286    ┆ 18803   ┆ … ┆ 50  ┆ 2022-09-09      ┆ 2              ┆ 0            │\n",
       "│         ┆      ┆           ┆         ┆   ┆     ┆ 00:37:00.947    ┆                ┆              │\n",
       "│ 1329461 ┆ 78   ┆ 274286    ┆ 18803   ┆ … ┆ 50  ┆ 2022-09-09      ┆ 3              ┆ 0            │\n",
       "│         ┆      ┆           ┆         ┆   ┆     ┆ 00:37:07.370    ┆                ┆              │\n",
       "│ 1329462 ┆ 78   ┆ 274286    ┆ 18803   ┆ … ┆ 225 ┆ 2022-09-09      ┆ 4              ┆ 0            │\n",
       "│         ┆      ┆           ┆         ┆   ┆     ┆ 00:38:11.697    ┆                ┆              │\n",
       "│ …       ┆ …    ┆ …         ┆ …       ┆ … ┆ …   ┆ …               ┆ …              ┆ …            │\n",
       "│ 1331497 ┆ 78   ┆ 274286    ┆ 18803   ┆ … ┆ 385 ┆ 2022-09-09      ┆ 123560         ┆ 0            │\n",
       "│         ┆      ┆           ┆         ┆   ┆     ┆ 23:00:45.040    ┆                ┆              │\n",
       "│ 1331518 ┆ 78   ┆ 274286    ┆ 18803   ┆ … ┆ 325 ┆ 2022-09-09      ┆ 123561         ┆ 0            │\n",
       "│         ┆      ┆           ┆         ┆   ┆     ┆ 23:07:23.370    ┆                ┆              │\n",
       "│ 1331519 ┆ 78   ┆ 274286    ┆ 18803   ┆ … ┆ 325 ┆ 2022-09-09      ┆ 123562         ┆ 0            │\n",
       "│         ┆      ┆           ┆         ┆   ┆     ┆ 23:07:57.267    ┆                ┆              │\n",
       "│ 1331528 ┆ 78   ┆ 274286    ┆ 18803   ┆ … ┆ 900 ┆ 2022-09-09      ┆ 123563         ┆ 0            │\n",
       "│         ┆      ┆           ┆         ┆   ┆     ┆ 23:13:23.090    ┆                ┆              │\n",
       "│ 1331529 ┆ 78   ┆ 274286    ┆ 18803   ┆ … ┆ 900 ┆ 2022-09-09      ┆ 123564         ┆ 0            │\n",
       "│         ┆      ┆           ┆         ┆   ┆     ┆ 23:13:42.987    ┆                ┆              │\n",
       "└─────────┴──────┴───────────┴─────────┴───┴─────┴─────────────────┴────────────────┴──────────────┘"
      ]
     },
     "execution_count": 109,
     "metadata": {},
     "output_type": "execute_result"
    }
   ],
   "source": [
    "data.with_columns(pl.lit(0).alias('new_0_column'))"
   ]
  },
  {
   "cell_type": "markdown",
   "metadata": {},
   "source": [
    "### group_by"
   ]
  },
  {
   "cell_type": "code",
   "execution_count": 112,
   "metadata": {},
   "outputs": [
    {
     "data": {
      "text/html": [
       "<div><style>\n",
       ".dataframe > thead > tr,\n",
       ".dataframe > tbody > tr {\n",
       "  text-align: right;\n",
       "  white-space: pre-wrap;\n",
       "}\n",
       "</style>\n",
       "<small>shape: (11, 2)</small><table border=\"1\" class=\"dataframe\"><thead><tr><th>country</th><th>max_rev</th></tr><tr><td>i64</td><td>i64</td></tr></thead><tbody><tr><td>18803</td><td>999</td></tr><tr><td>18028</td><td>205</td></tr><tr><td>20625</td><td>1750</td></tr><tr><td>18498</td><td>1500</td></tr><tr><td>20613</td><td>998</td></tr><tr><td>&hellip;</td><td>&hellip;</td></tr><tr><td>18770</td><td>-100</td></tr><tr><td>210357</td><td>14501</td></tr><tr><td>233909</td><td>13500</td></tr><tr><td>275410</td><td>900</td></tr><tr><td>293645</td><td>650</td></tr></tbody></table></div>"
      ],
      "text/plain": [
       "shape: (11, 2)\n",
       "┌─────────┬─────────┐\n",
       "│ country ┆ max_rev │\n",
       "│ ---     ┆ ---     │\n",
       "│ i64     ┆ i64     │\n",
       "╞═════════╪═════════╡\n",
       "│ 18803   ┆ 999     │\n",
       "│ 18028   ┆ 205     │\n",
       "│ 20625   ┆ 1750    │\n",
       "│ 18498   ┆ 1500    │\n",
       "│ 20613   ┆ 998     │\n",
       "│ …       ┆ …       │\n",
       "│ 18770   ┆ -100    │\n",
       "│ 210357  ┆ 14501   │\n",
       "│ 233909  ┆ 13500   │\n",
       "│ 275410  ┆ 900     │\n",
       "│ 293645  ┆ 650     │\n",
       "└─────────┴─────────┘"
      ]
     },
     "execution_count": 112,
     "metadata": {},
     "output_type": "execute_result"
    }
   ],
   "source": [
    "data.group_by('country', maintain_order = True).agg(pl.col('rev').max().alias('max_rev'))"
   ]
  },
  {
   "cell_type": "markdown",
   "metadata": {},
   "source": [
    "### поиск и вывод дублей строк"
   ]
  },
  {
   "cell_type": "code",
   "execution_count": 125,
   "metadata": {},
   "outputs": [
    {
     "data": {
      "text/html": [
       "<div><style>\n",
       ".dataframe > thead > tr,\n",
       ".dataframe > tbody > tr {\n",
       "  text-align: right;\n",
       "  white-space: pre-wrap;\n",
       "}\n",
       "</style>\n",
       "<small>shape: (11_888_990, 10)</small><table border=\"1\" class=\"dataframe\"><thead><tr><th>id</th><th>tour</th><th>departure</th><th>country</th><th>hotel</th><th>check_in</th><th>nights</th><th>rev</th><th>date</th><th>__index_level_0__</th></tr><tr><td>i64</td><td>i64</td><td>i64</td><td>i64</td><td>f64</td><td>datetime[ns]</td><td>i64</td><td>i64</td><td>datetime[ns]</td><td>i64</td></tr></thead><tbody><tr><td>1329458</td><td>78</td><td>274286</td><td>18803</td><td>20085.0</td><td>2022-09-15 00:00:00</td><td>2</td><td>50</td><td>2022-09-09 00:36:51.760</td><td>0</td></tr><tr><td>1329459</td><td>78</td><td>274286</td><td>18803</td><td>20085.0</td><td>2022-09-15 00:00:00</td><td>2</td><td>50</td><td>2022-09-09 00:36:56.883</td><td>1</td></tr><tr><td>1329460</td><td>78</td><td>274286</td><td>18803</td><td>20085.0</td><td>2022-09-16 00:00:00</td><td>2</td><td>50</td><td>2022-09-09 00:37:00.947</td><td>2</td></tr><tr><td>1329461</td><td>78</td><td>274286</td><td>18803</td><td>20085.0</td><td>2022-09-16 00:00:00</td><td>2</td><td>50</td><td>2022-09-09 00:37:07.370</td><td>3</td></tr><tr><td>1329462</td><td>78</td><td>274286</td><td>18803</td><td>20085.0</td><td>2022-09-17 00:00:00</td><td>2</td><td>225</td><td>2022-09-09 00:38:11.697</td><td>4</td></tr><tr><td>&hellip;</td><td>&hellip;</td><td>&hellip;</td><td>&hellip;</td><td>&hellip;</td><td>&hellip;</td><td>&hellip;</td><td>&hellip;</td><td>&hellip;</td><td>&hellip;</td></tr><tr><td>1331497</td><td>78</td><td>274286</td><td>18803</td><td>837451.0</td><td>2022-09-17 00:00:00</td><td>28</td><td>385</td><td>2022-09-09 23:00:45.040</td><td>123560</td></tr><tr><td>1331518</td><td>78</td><td>274286</td><td>18803</td><td>837451.0</td><td>2022-09-24 00:00:00</td><td>28</td><td>325</td><td>2022-09-09 23:07:23.370</td><td>123561</td></tr><tr><td>1331519</td><td>78</td><td>274286</td><td>18803</td><td>837451.0</td><td>2022-09-24 00:00:00</td><td>28</td><td>325</td><td>2022-09-09 23:07:57.267</td><td>123562</td></tr><tr><td>1331528</td><td>78</td><td>274286</td><td>18803</td><td>837451.0</td><td>2022-10-05 00:00:00</td><td>28</td><td>900</td><td>2022-09-09 23:13:23.090</td><td>123563</td></tr><tr><td>1331529</td><td>78</td><td>274286</td><td>18803</td><td>837451.0</td><td>2022-10-05 00:00:00</td><td>28</td><td>900</td><td>2022-09-09 23:13:42.987</td><td>123564</td></tr></tbody></table></div>"
      ],
      "text/plain": [
       "shape: (11_888_990, 10)\n",
       "┌─────────┬──────┬───────────┬─────────┬───┬────────┬─────┬──────────────┬───────────────────┐\n",
       "│ id      ┆ tour ┆ departure ┆ country ┆ … ┆ nights ┆ rev ┆ date         ┆ __index_level_0__ │\n",
       "│ ---     ┆ ---  ┆ ---       ┆ ---     ┆   ┆ ---    ┆ --- ┆ ---          ┆ ---               │\n",
       "│ i64     ┆ i64  ┆ i64       ┆ i64     ┆   ┆ i64    ┆ i64 ┆ datetime[ns] ┆ i64               │\n",
       "╞═════════╪══════╪═══════════╪═════════╪═══╪════════╪═════╪══════════════╪═══════════════════╡\n",
       "│ 1329458 ┆ 78   ┆ 274286    ┆ 18803   ┆ … ┆ 2      ┆ 50  ┆ 2022-09-09   ┆ 0                 │\n",
       "│         ┆      ┆           ┆         ┆   ┆        ┆     ┆ 00:36:51.760 ┆                   │\n",
       "│ 1329459 ┆ 78   ┆ 274286    ┆ 18803   ┆ … ┆ 2      ┆ 50  ┆ 2022-09-09   ┆ 1                 │\n",
       "│         ┆      ┆           ┆         ┆   ┆        ┆     ┆ 00:36:56.883 ┆                   │\n",
       "│ 1329460 ┆ 78   ┆ 274286    ┆ 18803   ┆ … ┆ 2      ┆ 50  ┆ 2022-09-09   ┆ 2                 │\n",
       "│         ┆      ┆           ┆         ┆   ┆        ┆     ┆ 00:37:00.947 ┆                   │\n",
       "│ 1329461 ┆ 78   ┆ 274286    ┆ 18803   ┆ … ┆ 2      ┆ 50  ┆ 2022-09-09   ┆ 3                 │\n",
       "│         ┆      ┆           ┆         ┆   ┆        ┆     ┆ 00:37:07.370 ┆                   │\n",
       "│ 1329462 ┆ 78   ┆ 274286    ┆ 18803   ┆ … ┆ 2      ┆ 225 ┆ 2022-09-09   ┆ 4                 │\n",
       "│         ┆      ┆           ┆         ┆   ┆        ┆     ┆ 00:38:11.697 ┆                   │\n",
       "│ …       ┆ …    ┆ …         ┆ …       ┆ … ┆ …      ┆ …   ┆ …            ┆ …                 │\n",
       "│ 1331497 ┆ 78   ┆ 274286    ┆ 18803   ┆ … ┆ 28     ┆ 385 ┆ 2022-09-09   ┆ 123560            │\n",
       "│         ┆      ┆           ┆         ┆   ┆        ┆     ┆ 23:00:45.040 ┆                   │\n",
       "│ 1331518 ┆ 78   ┆ 274286    ┆ 18803   ┆ … ┆ 28     ┆ 325 ┆ 2022-09-09   ┆ 123561            │\n",
       "│         ┆      ┆           ┆         ┆   ┆        ┆     ┆ 23:07:23.370 ┆                   │\n",
       "│ 1331519 ┆ 78   ┆ 274286    ┆ 18803   ┆ … ┆ 28     ┆ 325 ┆ 2022-09-09   ┆ 123562            │\n",
       "│         ┆      ┆           ┆         ┆   ┆        ┆     ┆ 23:07:57.267 ┆                   │\n",
       "│ 1331528 ┆ 78   ┆ 274286    ┆ 18803   ┆ … ┆ 28     ┆ 900 ┆ 2022-09-09   ┆ 123563            │\n",
       "│         ┆      ┆           ┆         ┆   ┆        ┆     ┆ 23:13:23.090 ┆                   │\n",
       "│ 1331529 ┆ 78   ┆ 274286    ┆ 18803   ┆ … ┆ 28     ┆ 900 ┆ 2022-09-09   ┆ 123564            │\n",
       "│         ┆      ┆           ┆         ┆   ┆        ┆     ┆ 23:13:42.987 ┆                   │\n",
       "└─────────┴──────┴───────────┴─────────┴───┴────────┴─────┴──────────────┴───────────────────┘"
      ]
     },
     "execution_count": 125,
     "metadata": {},
     "output_type": "execute_result"
    }
   ],
   "source": [
    "data.filter(data.select(pl.col('tour','hotel', 'check_in', 'nights','rev')).is_duplicated())"
   ]
  }
 ],
 "metadata": {
  "kernelspec": {
   "display_name": "Python 3",
   "language": "python",
   "name": "python3"
  },
  "language_info": {
   "codemirror_mode": {
    "name": "ipython",
    "version": 3
   },
   "file_extension": ".py",
   "mimetype": "text/x-python",
   "name": "python",
   "nbconvert_exporter": "python",
   "pygments_lexer": "ipython3",
   "version": "3.12.2"
  }
 },
 "nbformat": 4,
 "nbformat_minor": 2
}
